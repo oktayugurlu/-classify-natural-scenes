{
 "cells": [
  {
   "cell_type": "markdown",
   "metadata": {},
   "source": [
    "# &emsp;&emsp;&emsp;&emsp;&emsp;&emsp;HACETTEPE UNIVERSITY COMPUTER ENGINEERING\n",
    "## &emsp;&emsp;&emsp;&emsp;&emsp;&emsp;&emsp;&emsp;&emsp;&emsp;&emsp;&emsp;  &emsp;&emsp;BBM 409 Machine Learning Lab\n",
    "## &emsp;&emsp;&emsp;&emsp;&emsp;&emsp;&emsp;&emsp;&emsp;&emsp;&emsp;&emsp;  &emsp;&emsp;&emsp;&emsp;  &emsp;&emsp;Assignmet III\n",
    "\n",
    "### &emsp;Name/Surname: Oktay UĞURLU\n",
    "### &emsp;School Number: 21627725\n",
    "### &emsp;E-mail: b21627725@cs.hacettepe.edu.tr"
   ]
  },
  {
   "cell_type": "markdown",
   "metadata": {},
   "source": [
    "# Part I: Classification of Natural Scenes using Neural Network"
   ]
  },
  {
   "cell_type": "markdown",
   "metadata": {},
   "source": [
    "In this assignment, the aim is implementing the single layer and multilayer neural networks to predict 6 scene classes."
   ]
  },
  {
   "cell_type": "markdown",
   "metadata": {},
   "source": [
    "**Note:** You can run the train.py and test.py by giving these commands:\n",
    "- python train.py -data path < trained_data_path >\n",
    "- python test.py -data path < tested_data_path > -data path < weigths >"
   ]
  },
  {
   "cell_type": "markdown",
   "metadata": {},
   "source": [
    "## 1. Dataset"
   ]
  },
  {
   "cell_type": "code",
   "execution_count": 5,
   "metadata": {},
   "outputs": [
    {
     "name": "stdout",
     "output_type": "stream",
     "text": [
      "Requirement already satisfied: opencv-python in c:\\users\\oktay\\anaconda3\\lib\\site-packages (4.5.1.48)Note: you may need to restart the kernel to use updated packages.\n",
      "Collecting numpy>=1.17.3\n",
      "  Downloading numpy-1.20.2-cp38-cp38-win_amd64.whl (13.7 MB)\n",
      "Installing collected packages: numpy\n",
      "Successfully installed numpy-1.20.2\n",
      "\n"
     ]
    },
    {
     "name": "stderr",
     "output_type": "stream",
     "text": [
      "ERROR: pip's dependency resolver does not currently take into account all the packages that are installed. This behaviour is the source of the following dependency conflicts.\n",
      "tensorflow 2.4.1 requires h5py~=2.10.0, which is not installed.\n",
      "tensorboard 2.5.0 requires werkzeug>=0.11.15, which is not installed.\n",
      "tensorflow 2.4.1 requires numpy~=1.19.2, but you have numpy 1.20.2 which is incompatible.\n"
     ]
    }
   ],
   "source": [
    "pip install opencv-python"
   ]
  },
  {
   "cell_type": "code",
   "execution_count": 23,
   "metadata": {},
   "outputs": [],
   "source": [
    "import cv2\n",
    "import pandas as pd\n",
    "from math import log\n",
    "import numpy as np\n",
    "import matplotlib.pyplot as plt\n",
    "import operator\n",
    "from sklearn.metrics import classification_report, confusion_matrix\n",
    "import warnings\n",
    "warnings.filterwarnings('ignore')\n",
    "\n",
    "%matplotlib inline\n",
    "import matplotlib.pyplot as plt                              #For visualization\n",
    "\n",
    "from os import listdir, system\n",
    "from random import random\n",
    "from sklearn.metrics import accuracy_score"
   ]
  },
  {
   "cell_type": "code",
   "execution_count": 24,
   "metadata": {},
   "outputs": [],
   "source": [
    "from sklearn.preprocessing import normalize"
   ]
  },
  {
   "cell_type": "code",
   "execution_count": 25,
   "metadata": {},
   "outputs": [],
   "source": [
    "SIZE=30\n",
    "TRAIN_DATA_SIZE=14034\n",
    "TEST_DATA_SIZE=3650\n",
    "TEST_DATA_SIZE=3000"
   ]
  },
  {
   "cell_type": "markdown",
   "metadata": {},
   "source": [
    "We have read the train data to do grayscaling, resizing, and vectorizing operations."
   ]
  },
  {
   "cell_type": "code",
   "execution_count": 26,
   "metadata": {},
   "outputs": [],
   "source": [
    "#Reading train data\n",
    "train_image_df = pd.DataFrame(columns=[\"id\", \"image\", \"class name\"])\n",
    "\n",
    "for class_name in listdir('./dataset/seg_train/seg_train'):\n",
    "    for image_name in listdir('./dataset/seg_train/seg_train/'+class_name):\n",
    "        img = cv2.imread('./dataset/seg_train/seg_train/'+class_name+'/'+image_name, cv2.IMREAD_GRAYSCALE).astype(np.float32)\n",
    "        resized_image = cv2.resize(img, (SIZE, SIZE)) #Resizing image to 30x30\n",
    "        resized_image /= 255.0   # Normalization\n",
    "        resized_image = resized_image.reshape(1, SIZE*SIZE) #Vectorizing\n",
    "        train_image_df = train_image_df.append(pd.DataFrame([[int(image_name.split(\".\")[0]),resized_image,class_name]],columns=[\"id\", \"image\", \"class name\"]), ignore_index=True)\n",
    "\n",
    "train_image_df.reset_index(drop=True)\n",
    "train_image_df.index = train_image_df[\"id\"]\n",
    "# Normalize class names as integer value\n",
    "train_image_df[\"class name\"] = train_image_df[\"class name\"].map(lambda x:0 if x==\"buildings\" else 1 if x==\"forest\" else 2 if x==\"glacier\" else 3 if x==\"mountain\" else 4 if x==\"sea\" else 5 if x==\"street\" else x)\n",
    "\n",
    "train_image_df = train_image_df.sample(frac=1,random_state=3)"
   ]
  },
  {
   "cell_type": "markdown",
   "metadata": {},
   "source": [
    "We will use validaiton dataset to find optimum hyperparameters."
   ]
  },
  {
   "cell_type": "code",
   "execution_count": 1450,
   "metadata": {},
   "outputs": [],
   "source": [
    "#Reading dev data\n",
    "train_dev_df = pd.DataFrame(columns=[\"id\", \"image\", \"class name\"])\n",
    "\n",
    "for class_name in listdir('./dataset/seg_dev/seg_dev'):\n",
    "    for image_name in listdir('./dataset/seg_dev/seg_dev/'+class_name):\n",
    "        img = cv2.imread('./dataset/seg_dev/seg_dev/'+class_name+'/'+image_name, cv2.IMREAD_GRAYSCALE).astype(np.float32)\n",
    "        resized_image = cv2.resize(img, (SIZE, SIZE)) #Resizing image to 30x30\n",
    "        resized_image /= 255.0   # Normalization\n",
    "        resized_image = resized_image.reshape(1, SIZE*SIZE) #Vectorizing\n",
    "        train_dev_df = train_dev_df.append(pd.DataFrame([[int(image_name.split(\".\")[0]),resized_image,class_name]],columns=[\"id\", \"image\", \"class name\"]), ignore_index=True)\n",
    "\n",
    "train_dev_df.reset_index(drop=True)\n",
    "train_dev_df.index = train_dev_df[\"id\"]\n",
    "\n",
    "# Normalize class names as integer value\n",
    "train_dev_df[\"class name\"] = train_dev_df[\"class name\"].map(lambda x:0 if x==\"buildings\" else 1 if x==\"forest\" else 2 if x==\"glacier\" else 3 if x==\"mountain\" else 4 if x==\"sea\" else 5 if x==\"street\" else x)\n",
    "train_dev_df = train_dev_df.sample(frac=1,random_state=3)"
   ]
  },
  {
   "cell_type": "markdown",
   "metadata": {},
   "source": [
    "You can see an example for transformed image:"
   ]
  },
  {
   "cell_type": "code",
   "execution_count": 865,
   "metadata": {},
   "outputs": [
    {
     "data": {
      "text/plain": [
       "<matplotlib.image.AxesImage at 0x23cc7fa23a0>"
      ]
     },
     "execution_count": 865,
     "metadata": {},
     "output_type": "execute_result"
    },
    {
     "data": {
      "image/png": "[encoded data removed]",
      "text/plain": [
       "<Figure size 432x288 with 1 Axes>"
      ]
     },
     "metadata": {},
     "output_type": "display_data"
    }
   ],
   "source": [
    "plt.imshow(train_image_df[\"image\"][1].reshape(SIZE, SIZE), cmap='gray')"
   ]
  },
  {
   "cell_type": "markdown",
   "metadata": {},
   "source": [
    "## 2. Single Layer Neural Network"
   ]
  },
  {
   "cell_type": "markdown",
   "metadata": {},
   "source": [
    "In the implementation part, I have initialize all weights with 0.001, because when I initialize randomly, after second epoch, all the model weights decreased near to zero. \n",
    "\n",
    "In implementation, I have used 2 different objective function and 3 different activation functions:\n",
    "\n",
    "- Sigmoid function and mean square error\n",
    "- Softmax function and negative log likelihood\n",
    "- ReLu and negative log likelihood"
   ]
  },
  {
   "cell_type": "code",
   "execution_count": 71,
   "metadata": {},
   "outputs": [],
   "source": [
    "class Single_Neural_Network:\n",
    "    def __init__(self, is_sigmoid=False, is_softmax=False, is_tanh=False, is_relu=False, is_mse=False, is_neg_log_likelihood=False ):\n",
    "        #activation function\n",
    "        self.is_sigmoid = is_sigmoid\n",
    "        self.is_softmax = is_softmax\n",
    "        self.is_tanh = is_tanh\n",
    "        self.is_relu = is_relu\n",
    "        \n",
    "        #objective function\n",
    "        self.is_mse = is_mse\n",
    "        self.is_neg_log_likelihood = is_neg_log_likelihood\n",
    "        \n",
    "        self.prediction_list=[]\n",
    "        self.all_epoch_loss_list = []\n",
    "        \n",
    "        # weight initialization\n",
    "        self.weights=np.zeros((6,900))\n",
    "        for i in range(0,self.weights.shape[0]):\n",
    "            for j in range(0,self.weights.shape[1]):\n",
    "                self.weights[i][j] = 0.001\n",
    "        self.errors=np.zeros((self.weights.shape[0]))\n",
    "    def __softmax_function(self, output_list): #returns softmax for all output for each train data \n",
    "        return np.exp(output_list) / np.sum(np.exp(output_list))\n",
    "    \n",
    "    def __der_softmax_function(self, output_list): #returns softmax derivation by input\n",
    "        gradient=np.zeros((self.weights.shape[0],self.weights.shape[0]))\n",
    "        for i in range(0,gradient.shape[0]):\n",
    "            for j in range(0,gradient.shape[0]):\n",
    "                if i == j:\n",
    "                    gradient[i][j] = output_list[i] * (1-output_list[i])\n",
    "                else: \n",
    "                    gradient[i][j] = -output_list[i] * output_list[j]\n",
    "        return gradient\n",
    "    \n",
    "    def __forwarding(self, inputs, output_neuron):\n",
    "        if self.is_sigmoid == True:\n",
    "            input_for_activation = np.dot(inputs, self.weights[output_neuron])\n",
    "            return 1/(1+np.exp(-input_for_activation))\n",
    "        if self.is_softmax == True:\n",
    "            input_for_softmax_arr = np.dot(inputs, self.weights.T)\n",
    "            return np.exp(input_for_softmax_arr[output_neuron]) / np.sum(np.exp(input_for_softmax_arr)) # result is (1,output neuron size)\n",
    "        if self.is_relu == True:   \n",
    "            input_for_softmax_arr = np.dot(inputs, self.weights.T)\n",
    "            input_for_softmax_arr[input_for_softmax_arr<=0]=0\n",
    "            return input_for_softmax_arr[output_neuron]\n",
    "        else:\n",
    "            return []    \n",
    "    def train(self, train_data_df, LEARNING_RATE=0.005, batch_size=1):\n",
    "        \n",
    "        # We create weights for each output neuron. Each row indicates weights links to the each output neuron\n",
    "        output_neuron_size = train_data_df[\"class name\"].unique().shape[0]\n",
    "        number_of_weights = train_data_df[\"image\"][0].shape[1]\n",
    "        classes1 = train_data_df[\"class name\"].unique()\n",
    "        classes2 = train_data_df[\"class name\"].unique()\n",
    "        classes1.sort()\n",
    "        classes2.sort()\n",
    "        \n",
    "        loss_list = []\n",
    "        \n",
    "        #mini batch variables\n",
    "        new_weights = np.zeros((output_neuron_size, number_of_weights))\n",
    "        batch_counter=1\n",
    "        self.batch_size=batch_size\n",
    "        \n",
    "        for id_value in train_data_df[\"id\"]: # We update each weights seperately by output neurons.\n",
    "            \n",
    "            class_name = train_data_df.loc[id_value][\"class name\"]\n",
    "            input_neurons = train_data_df.loc[id_value][\"image\"][0]\n",
    "                \n",
    "            #This gives the true y values of output neurons\n",
    "            \n",
    "            expected_output_array = np.zeros((1, output_neuron_size))[0]\n",
    "            expected_output_array[class_name] = 1\n",
    "            outputs = np.zeros((self.weights.shape[0]))\n",
    "            \n",
    "            #Calculate forward for each output neuron\n",
    "            if self.is_sigmoid == True:\n",
    "                for output_neuron in classes1:\n",
    "                    input_for_activation = np.dot(input_neurons, self.weights[output_neuron])\n",
    "                    outputs[output_neuron] = 1/(1+np.exp(-input_for_activation))\n",
    "            if self.is_softmax == True:\n",
    "                input_for_softmax_arr = np.dot(input_neurons, self.weights.T)\n",
    "                outputs = self.__softmax_function(input_for_softmax_arr) # result is (1,output neuron size)\n",
    "            if self.is_relu == True:   \n",
    "                input_for_softmax_arr = np.dot(input_neurons, self.weights.T)\n",
    "                input_for_softmax_arr[input_for_softmax_arr<=0]=0\n",
    "                outputs=input_for_softmax_arr\n",
    "                \n",
    "            #Calculate error for each output neuron\n",
    "            if self.is_mse:\n",
    "                for output_n in classes2: \n",
    "                    self.errors[output_n] += expected_output_array[output_n]-outputs[output_n]\n",
    "\n",
    "            #mini batch update\n",
    "            if self.batch_size==batch_counter:\n",
    "                # backward calculation\n",
    "                for output_n in classes2:\n",
    "                    if self.is_sigmoid and self.is_mse:\n",
    "                        delta=LEARNING_RATE*(self.errors[output_n] / self.batch_size) * outputs[output_n] * (1 - outputs[output_n]) * input_neurons\n",
    "                    if self.is_softmax and self.is_neg_log_likelihood:\n",
    "                        delta = LEARNING_RATE * (expected_output_array[output_n]-outputs[output_n]) * input_neurons\n",
    "                    if self.is_relu and self.is_mse: \n",
    "                        delta = LEARNING_RATE * (self.errors[output_n] / self.batch_size) * (0 if outputs[output_n]<0 else 1) * input_neurons\n",
    "                    self.weights[output_n] += delta\n",
    "                    \n",
    "                batch_counter=1\n",
    "                self.errors=np.zeros((self.weights.shape[0]))\n",
    "            else:\n",
    "                batch_counter+=1\n",
    "                \n",
    "            if(self.is_mse):\n",
    "                loss_list.append(np.mean(np.square(expected_output_array-outputs)))\n",
    "            elif(self.is_neg_log_likelihood):\n",
    "                loss_list.append(-np.log(outputs[class_name]))\n",
    "\n",
    "        if(self.is_mse):        \n",
    "            self.all_epoch_loss_list.append(np.mean(loss_list))\n",
    "        elif(self.is_neg_log_likelihood):\n",
    "            self.all_epoch_loss_list.append(np.sum(loss_list))\n",
    "        \n",
    "    def predict(self, predict_data):\n",
    "        self.prediction_list=[]\n",
    "        output_neuron_size = predict_data[\"class name\"].unique().shape[0]\n",
    "        for id_value in predict_data[\"id\"]:\n",
    "            input_neurons = predict_data[predict_data[\"id\"]==id_value][\"image\"].values[0][0]\n",
    "            \n",
    "            outputs = []\n",
    "            #Calculate forward for each output neuron\n",
    "            for output_neuron in range(0, output_neuron_size):\n",
    "                outputs.append(self.__forwarding(input_neurons, output_neuron))\n",
    "                \n",
    "            self.prediction_list.append(outputs.index(max(outputs)))\n",
    "        return self.prediction_list"
   ]
  },
  {
   "cell_type": "markdown",
   "metadata": {},
   "source": [
    "### Learning Rate"
   ]
  },
  {
   "cell_type": "markdown",
   "metadata": {},
   "source": [
    "We need to decide to what should we use as learning rate and epoch number. Firstly, I set epoch to 6 and try different learning rates. I also used sigmoid and mean square error:"
   ]
  },
  {
   "cell_type": "code",
   "execution_count": 1959,
   "metadata": {
    "scrolled": true
   },
   "outputs": [
    {
     "name": "stdout",
     "output_type": "stream",
     "text": [
      "Epoch 1 with learning rate 0.005: 0.13336170268454875\n",
      "-------------------------------------------------------\n",
      "Epoch 2 with learning rate 0.005: 0.13021582982235472\n",
      "-------------------------------------------------------\n",
      "Epoch 3 with learning rate 0.005: 0.12938641661990224\n",
      "-------------------------------------------------------\n",
      "Epoch 4 with learning rate 0.005: 0.12877668861055105\n",
      "-------------------------------------------------------\n",
      "Epoch 5 with learning rate 0.005: 0.12825747711099458\n",
      "-------------------------------------------------------\n",
      "Epoch 6 with learning rate 0.005: 0.12779341066863953\n",
      "-------------------------------------------------------\n",
      "Epoch 7 with learning rate 0.005: 0.12736954945440343\n",
      "-------------------------------------------------------\n",
      "Epoch 8 with learning rate 0.005: 0.12697786734988664\n",
      "-------------------------------------------------------\n",
      "Epoch 9 with learning rate 0.005: 0.12661332157273816\n",
      "-------------------------------------------------------\n",
      "Epoch 10 with learning rate 0.005: 0.1262723848894145\n",
      "-------------------------------------------------------\n",
      "Epoch 11 with learning rate 0.005: 0.12595239827363872\n",
      "-------------------------------------------------------\n",
      "Epoch 12 with learning rate 0.005: 0.12565124783364376\n",
      "-------------------------------------------------------\n",
      "Epoch 13 with learning rate 0.005: 0.1253671876346001\n",
      "-------------------------------------------------------\n",
      "Epoch 14 with learning rate 0.005: 0.1250987352461181\n",
      "-------------------------------------------------------\n",
      "Epoch 15 with learning rate 0.005: 0.1248446064584432\n",
      "-------------------------------------------------------\n",
      "Epoch 16 with learning rate 0.005: 0.12460367235097854\n",
      "-------------------------------------------------------\n",
      "Epoch 17 with learning rate 0.005: 0.12437492974577212\n",
      "-------------------------------------------------------\n",
      "Epoch 18 with learning rate 0.005: 0.12415747998474942\n",
      "-------------------------------------------------------\n",
      "Epoch 19 with learning rate 0.005: 0.12395051306922024\n",
      "-------------------------------------------------------\n",
      "Epoch 20 with learning rate 0.005: 0.12375329542838095\n",
      "-------------------------------------------------------\n",
      "Epoch 1 with learning rate 0.01: 0.13363012092961443\n",
      "-------------------------------------------------------\n",
      "Epoch 2 with learning rate 0.01: 0.13095095285980943\n",
      "-------------------------------------------------------\n",
      "Epoch 3 with learning rate 0.01: 0.129927896379547\n",
      "-------------------------------------------------------\n",
      "Epoch 4 with learning rate 0.01: 0.1290956436093121\n",
      "-------------------------------------------------------\n",
      "Epoch 5 with learning rate 0.01: 0.1283758479993464\n",
      "-------------------------------------------------------\n",
      "Epoch 6 with learning rate 0.01: 0.1277402001771767\n",
      "-------------------------------------------------------\n",
      "Epoch 7 with learning rate 0.01: 0.1271727539960434\n",
      "-------------------------------------------------------\n",
      "Epoch 8 with learning rate 0.01: 0.12666255706809496\n",
      "-------------------------------------------------------\n",
      "Epoch 9 with learning rate 0.01: 0.12620129746648567\n",
      "-------------------------------------------------------\n",
      "Epoch 10 with learning rate 0.01: 0.12578232485546093\n",
      "-------------------------------------------------------\n",
      "Epoch 11 with learning rate 0.01: 0.12540016035112841\n",
      "-------------------------------------------------------\n",
      "Epoch 12 with learning rate 0.01: 0.12505021282546577\n",
      "-------------------------------------------------------\n",
      "Epoch 13 with learning rate 0.01: 0.12472859551569476\n",
      "-------------------------------------------------------\n",
      "Epoch 14 with learning rate 0.01: 0.1244319964782449\n",
      "-------------------------------------------------------\n",
      "Epoch 15 with learning rate 0.01: 0.12415758042619868\n",
      "-------------------------------------------------------\n",
      "Epoch 16 with learning rate 0.01: 0.12390291062640565\n",
      "-------------------------------------------------------\n",
      "Epoch 17 with learning rate 0.01: 0.12366588513480933\n",
      "-------------------------------------------------------\n",
      "Epoch 18 with learning rate 0.01: 0.1234446840582354\n",
      "-------------------------------------------------------\n",
      "Epoch 19 with learning rate 0.01: 0.12323772594671259\n",
      "-------------------------------------------------------\n",
      "Epoch 20 with learning rate 0.01: 0.12304363144473696\n",
      "-------------------------------------------------------\n",
      "Epoch 1 with learning rate 0.02: 0.13576469660785093\n",
      "-------------------------------------------------------\n",
      "Epoch 2 with learning rate 0.02: 0.1331195586673671\n",
      "-------------------------------------------------------\n",
      "Epoch 3 with learning rate 0.02: 0.13172734648658826\n",
      "-------------------------------------------------------\n",
      "Epoch 4 with learning rate 0.02: 0.13060149916299935\n",
      "-------------------------------------------------------\n",
      "Epoch 5 with learning rate 0.02: 0.12966687717378803\n",
      "-------------------------------------------------------\n",
      "Epoch 6 with learning rate 0.02: 0.12887943219468567\n",
      "-------------------------------------------------------\n",
      "Epoch 7 with learning rate 0.02: 0.12820819410544324\n",
      "-------------------------------------------------------\n",
      "Epoch 8 with learning rate 0.02: 0.12762999826342428\n",
      "-------------------------------------------------------\n",
      "Epoch 9 with learning rate 0.02: 0.1271269295536517\n",
      "-------------------------------------------------------\n",
      "Epoch 10 with learning rate 0.02: 0.1266849879196189\n",
      "-------------------------------------------------------\n",
      "Epoch 11 with learning rate 0.02: 0.12629321900383425\n",
      "-------------------------------------------------------\n",
      "Epoch 12 with learning rate 0.02: 0.12594302203975014\n",
      "-------------------------------------------------------\n",
      "Epoch 13 with learning rate 0.02: 0.12562760087991376\n",
      "-------------------------------------------------------\n",
      "Epoch 14 with learning rate 0.02: 0.12534154490115768\n",
      "-------------------------------------------------------\n",
      "Epoch 15 with learning rate 0.02: 0.12508051372870838\n",
      "-------------------------------------------------------\n",
      "Epoch 16 with learning rate 0.02: 0.12484099969662737\n",
      "-------------------------------------------------------\n",
      "Epoch 17 with learning rate 0.02: 0.12462014696304273\n",
      "-------------------------------------------------------\n",
      "Epoch 18 with learning rate 0.02: 0.12441561167913684\n",
      "-------------------------------------------------------\n",
      "Epoch 19 with learning rate 0.02: 0.12422545330475221\n",
      "-------------------------------------------------------\n",
      "Epoch 20 with learning rate 0.02: 0.12404805184798745\n",
      "-------------------------------------------------------\n"
     ]
    }
   ],
   "source": [
    "\n",
    "LEARNING_RATES = [0.005,0.01,0.02]\n",
    "\n",
    "single_neural_network11 = Single_Neural_Network(is_sigmoid=True, is_mse=True)\n",
    "for i in range(0,20):\n",
    "    single_neural_network11.train(train_image_df, LEARNING_RATE=LEARNING_RATES[0], batch_size=1)\n",
    "    print(\"Epoch \"+str(i+1)+\" with learning rate \"+ str(LEARNING_RATES[0]) +\": \"+str(single_neural_network11.all_epoch_loss_list[i]))\n",
    "    print(\"-------------------------------------------------------\")\n",
    "    \n",
    "single_neural_network12 = Single_Neural_Network(is_sigmoid=True, is_mse=True)\n",
    "for i in range(0,20):\n",
    "    single_neural_network12.train(train_image_df, LEARNING_RATE=LEARNING_RATES[1], batch_size=1)\n",
    "    print(\"Epoch \"+str(i+1)+\" with learning rate \"+ str(LEARNING_RATES[1]) +\": \"+str(single_neural_network12.all_epoch_loss_list[i]))\n",
    "    print(\"-------------------------------------------------------\")\n",
    "\n",
    "single_neural_network13 = Single_Neural_Network(is_sigmoid=True, is_mse=True)\n",
    "for i in range(0,20):\n",
    "    single_neural_network13.train(train_image_df, LEARNING_RATE=LEARNING_RATES[2], batch_size=1)\n",
    "    print(\"Epoch \"+str(i+1)+\" with learning rate \"+ str(LEARNING_RATES[2]) +\": \"+str(single_neural_network13.all_epoch_loss_list[i]))\n",
    "    print(\"-------------------------------------------------------\")\n",
    "    "
   ]
  },
  {
   "cell_type": "code",
   "execution_count": 1960,
   "metadata": {},
   "outputs": [
    {
     "data": {
      "text/plain": [
       "[<matplotlib.lines.Line2D at 0x23cd0e73700>]"
      ]
     },
     "execution_count": 1960,
     "metadata": {},
     "output_type": "execute_result"
    },
    {
     "data": {
      "image/png": "[encoded data removed]",
      "text/plain": [
       "<Figure size 432x288 with 1 Axes>"
      ]
     },
     "metadata": {},
     "output_type": "display_data"
    }
   ],
   "source": [
    "epoch_list=[i for i in range(1,21)]\n",
    "plt.title('Loss in each epochs with learning rate = '+str(LEARNING_RATES[0]))\n",
    "plt.plot(epoch_list, single_neural_network11.all_epoch_loss_list)"
   ]
  },
  {
   "cell_type": "code",
   "execution_count": 1961,
   "metadata": {},
   "outputs": [
    {
     "data": {
      "text/plain": [
       "[<matplotlib.lines.Line2D at 0x23cd1070670>]"
      ]
     },
     "execution_count": 1961,
     "metadata": {},
     "output_type": "execute_result"
    },
    {
     "data": {
      "image/png": "[encoded data removed]",
      "text/plain": [
       "<Figure size 432x288 with 1 Axes>"
      ]
     },
     "metadata": {},
     "output_type": "display_data"
    }
   ],
   "source": [
    "plt.title('Loss in each epochs with learning rate = '+str(LEARNING_RATES[1]))\n",
    "plt.plot(epoch_list, single_neural_network12.all_epoch_loss_list)"
   ]
  },
  {
   "cell_type": "code",
   "execution_count": 1962,
   "metadata": {
    "scrolled": true
   },
   "outputs": [
    {
     "data": {
      "text/plain": [
       "[<matplotlib.lines.Line2D at 0x23cd0e12220>]"
      ]
     },
     "execution_count": 1962,
     "metadata": {},
     "output_type": "execute_result"
    },
    {
     "data": {
      "image/png": "[encoded data removed]",
      "text/plain": [
       "<Figure size 432x288 with 1 Axes>"
      ]
     },
     "metadata": {},
     "output_type": "display_data"
    }
   ],
   "source": [
    "plt.title('Loss in each epochs with learning rate = '+str(LEARNING_RATES[2]))\n",
    "plt.plot(epoch_list, single_neural_network13.all_epoch_loss_list)"
   ]
  },
  {
   "cell_type": "markdown",
   "metadata": {},
   "source": [
    "### Epoch number"
   ]
  },
  {
   "cell_type": "markdown",
   "metadata": {},
   "source": [
    "When the loss values are decreased, we can say that the model is learning. In first 2 epoch, loss values of the model which trained with 0.005 learning rate is more decreased than others. So, we can select the learning rate as 0.005. After that, we can analyze the best epoch numbers. I have tried to the 50 epoch to see the cahnges at the loss result:"
   ]
  },
  {
   "cell_type": "code",
   "execution_count": 1973,
   "metadata": {
    "scrolled": true
   },
   "outputs": [
    {
     "name": "stdout",
     "output_type": "stream",
     "text": [
      "Loss at epoch 1: 0.13336170268454875\n",
      "Accuracy at epoch 1: 0.35433333333333333\n",
      "-------------------------------------------------------\n",
      "Loss at epoch 2: 0.13021582982235472\n",
      "Accuracy at epoch 2: 0.36233333333333334\n",
      "-------------------------------------------------------\n",
      "Loss at epoch 3: 0.12938641661990224\n",
      "Accuracy at epoch 3: 0.362\n",
      "-------------------------------------------------------\n",
      "Loss at epoch 4: 0.12877668861055105\n",
      "Accuracy at epoch 4: 0.362\n",
      "-------------------------------------------------------\n",
      "Loss at epoch 5: 0.12825747711099458\n",
      "Accuracy at epoch 5: 0.364\n",
      "-------------------------------------------------------\n",
      "Loss at epoch 6: 0.12779341066863953\n",
      "Accuracy at epoch 6: 0.362\n",
      "-------------------------------------------------------\n",
      "Loss at epoch 7: 0.12736954945440343\n",
      "Accuracy at epoch 7: 0.365\n",
      "-------------------------------------------------------\n",
      "Loss at epoch 8: 0.12697786734988664\n",
      "Accuracy at epoch 8: 0.36633333333333334\n",
      "-------------------------------------------------------\n",
      "Loss at epoch 9: 0.12661332157273816\n",
      "Accuracy at epoch 9: 0.3636666666666667\n",
      "-------------------------------------------------------\n",
      "Loss at epoch 10: 0.1262723848894145\n",
      "Accuracy at epoch 10: 0.3636666666666667\n",
      "-------------------------------------------------------\n",
      "Loss at epoch 11: 0.12595239827363872\n",
      "Accuracy at epoch 11: 0.3616666666666667\n",
      "-------------------------------------------------------\n",
      "Loss at epoch 12: 0.12565124783364376\n",
      "Accuracy at epoch 12: 0.3616666666666667\n",
      "-------------------------------------------------------\n",
      "Loss at epoch 13: 0.1253671876346001\n",
      "Accuracy at epoch 13: 0.361\n",
      "-------------------------------------------------------\n",
      "Loss at epoch 14: 0.1250987352461181\n",
      "Accuracy at epoch 14: 0.363\n",
      "-------------------------------------------------------\n",
      "Loss at epoch 15: 0.1248446064584432\n",
      "Accuracy at epoch 15: 0.36233333333333334\n",
      "-------------------------------------------------------\n",
      "Loss at epoch 16: 0.12460367235097854\n",
      "Accuracy at epoch 16: 0.3616666666666667\n",
      "-------------------------------------------------------\n",
      "Loss at epoch 17: 0.12437492974577212\n",
      "Accuracy at epoch 17: 0.36433333333333334\n",
      "-------------------------------------------------------\n",
      "Loss at epoch 18: 0.12415747998474942\n",
      "Accuracy at epoch 18: 0.363\n",
      "-------------------------------------------------------\n",
      "Loss at epoch 19: 0.12395051306922024\n",
      "Accuracy at epoch 19: 0.36433333333333334\n",
      "-------------------------------------------------------\n",
      "Loss at epoch 20: 0.12375329542838095\n",
      "Accuracy at epoch 20: 0.363\n",
      "-------------------------------------------------------\n",
      "Loss at epoch 21: 0.12356516017454075\n",
      "Accuracy at epoch 21: 0.36333333333333334\n",
      "-------------------------------------------------------\n",
      "Loss at epoch 22: 0.12338549918593046\n",
      "Accuracy at epoch 22: 0.3626666666666667\n",
      "-------------------------------------------------------\n",
      "Loss at epoch 23: 0.12321375645833973\n",
      "Accuracy at epoch 23: 0.36233333333333334\n",
      "-------------------------------------------------------\n",
      "Loss at epoch 24: 0.12304942256981675\n",
      "Accuracy at epoch 24: 0.3616666666666667\n",
      "-------------------------------------------------------\n",
      "Loss at epoch 25: 0.12289202984606713\n",
      "Accuracy at epoch 25: 0.36233333333333334\n",
      "-------------------------------------------------------\n",
      "Loss at epoch 26: 0.12274114818892168\n",
      "Accuracy at epoch 26: 0.362\n",
      "-------------------------------------------------------\n",
      "Loss at epoch 27: 0.12259638148839558\n",
      "Accuracy at epoch 27: 0.3616666666666667\n",
      "-------------------------------------------------------\n",
      "Loss at epoch 28: 0.12245736434608263\n",
      "Accuracy at epoch 28: 0.363\n",
      "-------------------------------------------------------\n",
      "Loss at epoch 29: 0.12232375928398796\n",
      "Accuracy at epoch 29: 0.3636666666666667\n",
      "-------------------------------------------------------\n",
      "Loss at epoch 30: 0.12219525417532585\n",
      "Accuracy at epoch 30: 0.363\n",
      "-------------------------------------------------------\n",
      "Loss at epoch 31: 0.12207155998880598\n",
      "Accuracy at epoch 31: 0.36233333333333334\n",
      "-------------------------------------------------------\n",
      "Loss at epoch 32: 0.1219524087614988\n",
      "Accuracy at epoch 32: 0.3616666666666667\n",
      "-------------------------------------------------------\n",
      "Loss at epoch 33: 0.12183755178410978\n",
      "Accuracy at epoch 33: 0.3616666666666667\n",
      "-------------------------------------------------------\n",
      "Loss at epoch 34: 0.12172675790062276\n",
      "Accuracy at epoch 34: 0.36133333333333334\n",
      "-------------------------------------------------------\n",
      "Loss at epoch 35: 0.12161981210255557\n",
      "Accuracy at epoch 35: 0.36133333333333334\n",
      "-------------------------------------------------------\n",
      "Loss at epoch 36: 0.1215165141315\n",
      "Accuracy at epoch 36: 0.362\n",
      "-------------------------------------------------------\n",
      "Loss at epoch 37: 0.12141667726522198\n",
      "Accuracy at epoch 37: 0.363\n",
      "-------------------------------------------------------\n",
      "Loss at epoch 38: 0.12132012725622326\n",
      "Accuracy at epoch 38: 0.362\n",
      "-------------------------------------------------------\n",
      "Loss at epoch 39: 0.1212267012838269\n",
      "Accuracy at epoch 39: 0.3616666666666667\n",
      "-------------------------------------------------------\n",
      "Loss at epoch 40: 0.12113624708027458\n",
      "Accuracy at epoch 40: 0.362\n",
      "-------------------------------------------------------\n",
      "Loss at epoch 41: 0.12104862208791922\n",
      "Accuracy at epoch 41: 0.36033333333333334\n",
      "-------------------------------------------------------\n",
      "Loss at epoch 42: 0.12096369271461442\n",
      "Accuracy at epoch 42: 0.359\n",
      "-------------------------------------------------------\n",
      "Loss at epoch 43: 0.12088133365461262\n",
      "Accuracy at epoch 43: 0.359\n",
      "-------------------------------------------------------\n",
      "Loss at epoch 44: 0.12080142724936971\n",
      "Accuracy at epoch 44: 0.3596666666666667\n",
      "-------------------------------------------------------\n",
      "Loss at epoch 45: 0.12072386292912934\n",
      "Accuracy at epoch 45: 0.35933333333333334\n",
      "-------------------------------------------------------\n",
      "Loss at epoch 46: 0.12064853670969285\n",
      "Accuracy at epoch 46: 0.3586666666666667\n",
      "-------------------------------------------------------\n",
      "Loss at epoch 47: 0.1205753506728209\n",
      "Accuracy at epoch 47: 0.3586666666666667\n",
      "-------------------------------------------------------\n",
      "Loss at epoch 48: 0.12050421255909598\n",
      "Accuracy at epoch 48: 0.35833333333333334\n",
      "-------------------------------------------------------\n",
      "Loss at epoch 49: 0.12043503538263914\n",
      "Accuracy at epoch 49: 0.3576666666666667\n",
      "-------------------------------------------------------\n",
      "Loss at epoch 50: 0.12036773704447404\n",
      "Accuracy at epoch 50: 0.357\n",
      "-------------------------------------------------------\n",
      "Loss at epoch 51: 0.12030223999533894\n",
      "Accuracy at epoch 51: 0.35733333333333334\n",
      "-------------------------------------------------------\n",
      "Loss at epoch 52: 0.120238470937191\n",
      "Accuracy at epoch 52: 0.357\n",
      "-------------------------------------------------------\n",
      "Loss at epoch 53: 0.12017636052815676\n",
      "Accuracy at epoch 53: 0.357\n",
      "-------------------------------------------------------\n",
      "Loss at epoch 54: 0.12011584314951922\n",
      "Accuracy at epoch 54: 0.35733333333333334\n",
      "-------------------------------------------------------\n",
      "Loss at epoch 55: 0.12005685660719843\n",
      "Accuracy at epoch 55: 0.357\n",
      "-------------------------------------------------------\n",
      "Loss at epoch 56: 0.11999934198787782\n",
      "Accuracy at epoch 56: 0.35633333333333334\n",
      "-------------------------------------------------------\n",
      "Loss at epoch 57: 0.11994324336538331\n",
      "Accuracy at epoch 57: 0.3556666666666667\n",
      "-------------------------------------------------------\n",
      "Loss at epoch 58: 0.11988850768107571\n",
      "Accuracy at epoch 58: 0.35433333333333333\n",
      "-------------------------------------------------------\n",
      "Loss at epoch 59: 0.11983508450381265\n",
      "Accuracy at epoch 59: 0.355\n",
      "-------------------------------------------------------\n",
      "Loss at epoch 60: 0.11978292593648046\n",
      "Accuracy at epoch 60: 0.3546666666666667\n",
      "-------------------------------------------------------\n",
      "Loss at epoch 61: 0.11973198638569468\n",
      "Accuracy at epoch 61: 0.354\n",
      "-------------------------------------------------------\n",
      "Loss at epoch 62: 0.11968222247653629\n",
      "Accuracy at epoch 62: 0.35333333333333333\n",
      "-------------------------------------------------------\n",
      "Loss at epoch 63: 0.1196335928990993\n",
      "Accuracy at epoch 63: 0.354\n",
      "-------------------------------------------------------\n",
      "Loss at epoch 64: 0.11958605826263559\n"
     ]
    },
    {
     "name": "stdout",
     "output_type": "stream",
     "text": [
      "Accuracy at epoch 64: 0.35433333333333333\n",
      "-------------------------------------------------------\n",
      "Loss at epoch 65: 0.11953958102763709\n",
      "Accuracy at epoch 65: 0.3536666666666667\n",
      "-------------------------------------------------------\n",
      "Loss at epoch 66: 0.11949412535139257\n",
      "Accuracy at epoch 66: 0.3526666666666667\n",
      "-------------------------------------------------------\n",
      "Loss at epoch 67: 0.11944965700481483\n",
      "Accuracy at epoch 67: 0.35333333333333333\n",
      "-------------------------------------------------------\n",
      "Loss at epoch 68: 0.11940614331106385\n",
      "Accuracy at epoch 68: 0.3536666666666667\n",
      "-------------------------------------------------------\n",
      "Loss at epoch 69: 0.11936355298838672\n",
      "Accuracy at epoch 69: 0.353\n",
      "-------------------------------------------------------\n",
      "Loss at epoch 70: 0.11932185614206543\n",
      "Accuracy at epoch 70: 0.35333333333333333\n",
      "-------------------------------------------------------\n",
      "Loss at epoch 71: 0.1192810241340912\n",
      "Accuracy at epoch 71: 0.35333333333333333\n",
      "-------------------------------------------------------\n",
      "Loss at epoch 72: 0.1192410295498776\n",
      "Accuracy at epoch 72: 0.35333333333333333\n",
      "-------------------------------------------------------\n",
      "Loss at epoch 73: 0.11920184609822236\n",
      "Accuracy at epoch 73: 0.35233333333333333\n",
      "-------------------------------------------------------\n",
      "Loss at epoch 74: 0.11916344858736773\n",
      "Accuracy at epoch 74: 0.352\n",
      "-------------------------------------------------------\n",
      "Loss at epoch 75: 0.11912581284405781\n",
      "Accuracy at epoch 75: 0.352\n",
      "-------------------------------------------------------\n",
      "Loss at epoch 76: 0.11908891565685328\n",
      "Accuracy at epoch 76: 0.35133333333333333\n",
      "-------------------------------------------------------\n",
      "Loss at epoch 77: 0.11905273473481043\n",
      "Accuracy at epoch 77: 0.35133333333333333\n",
      "-------------------------------------------------------\n",
      "Loss at epoch 78: 0.1190172486726876\n",
      "Accuracy at epoch 78: 0.3516666666666667\n",
      "-------------------------------------------------------\n",
      "Loss at epoch 79: 0.11898243690023391\n",
      "Accuracy at epoch 79: 0.3516666666666667\n",
      "-------------------------------------------------------\n",
      "Loss at epoch 80: 0.11894827960863633\n",
      "Accuracy at epoch 80: 0.35133333333333333\n",
      "-------------------------------------------------------\n",
      "Loss at epoch 81: 0.11891475777430531\n",
      "Accuracy at epoch 81: 0.35033333333333333\n",
      "-------------------------------------------------------\n",
      "Loss at epoch 82: 0.11888185307312171\n",
      "Accuracy at epoch 82: 0.35133333333333333\n",
      "-------------------------------------------------------\n",
      "Loss at epoch 83: 0.11884954785829366\n",
      "Accuracy at epoch 83: 0.35133333333333333\n",
      "-------------------------------------------------------\n",
      "Loss at epoch 84: 0.11881782514949173\n",
      "Accuracy at epoch 84: 0.351\n",
      "-------------------------------------------------------\n",
      "Loss at epoch 85: 0.11878666858009028\n",
      "Accuracy at epoch 85: 0.351\n",
      "-------------------------------------------------------\n",
      "Loss at epoch 86: 0.11875606237907675\n",
      "Accuracy at epoch 86: 0.3506666666666667\n",
      "-------------------------------------------------------\n",
      "Loss at epoch 87: 0.11872599134384863\n",
      "Accuracy at epoch 87: 0.35\n",
      "-------------------------------------------------------\n",
      "Loss at epoch 88: 0.11869644081840289\n",
      "Accuracy at epoch 88: 0.34933333333333333\n",
      "-------------------------------------------------------\n",
      "Loss at epoch 89: 0.11866739664869641\n",
      "Accuracy at epoch 89: 0.349\n",
      "-------------------------------------------------------\n",
      "Loss at epoch 90: 0.1186388451994426\n",
      "Accuracy at epoch 90: 0.34933333333333333\n",
      "-------------------------------------------------------\n",
      "Loss at epoch 91: 0.11861077330086667\n",
      "Accuracy at epoch 91: 0.3496666666666667\n",
      "-------------------------------------------------------\n",
      "Loss at epoch 92: 0.11858316823681274\n",
      "Accuracy at epoch 92: 0.34933333333333333\n",
      "-------------------------------------------------------\n",
      "Loss at epoch 93: 0.11855601773083708\n",
      "Accuracy at epoch 93: 0.34933333333333333\n",
      "-------------------------------------------------------\n",
      "Loss at epoch 94: 0.11852930993040058\n",
      "Accuracy at epoch 94: 0.34933333333333333\n",
      "-------------------------------------------------------\n",
      "Loss at epoch 95: 0.11850303337282525\n",
      "Accuracy at epoch 95: 0.34933333333333333\n",
      "-------------------------------------------------------\n",
      "Loss at epoch 96: 0.11847717698730979\n",
      "Accuracy at epoch 96: 0.349\n",
      "-------------------------------------------------------\n",
      "Loss at epoch 97: 0.11845173007787427\n",
      "Accuracy at epoch 97: 0.3486666666666667\n",
      "-------------------------------------------------------\n",
      "Loss at epoch 98: 0.11842668228720665\n",
      "Accuracy at epoch 98: 0.349\n",
      "-------------------------------------------------------\n",
      "Loss at epoch 99: 0.11840202361099827\n",
      "Accuracy at epoch 99: 0.349\n",
      "-------------------------------------------------------\n",
      "Loss at epoch 100: 0.11837774437154805\n",
      "Accuracy at epoch 100: 0.349\n",
      "-------------------------------------------------------\n"
     ]
    }
   ],
   "source": [
    "single_neural_network14 = Single_Neural_Network(is_sigmoid=True, is_mse=True)\n",
    "learning_rate=0.005\n",
    "validation_acc=[]\n",
    "for i in range(0,100):\n",
    "    single_neural_network14.train(train_image_df, LEARNING_RATE=learning_rate, batch_size=1)\n",
    "    print(\"Loss at epoch \"+str(i+1)+\": \"+str(single_neural_network14.all_epoch_loss_list[i]))\n",
    "    acc=accuracy_score(train_dev_df[\"class name\"].values, single_neural_network14.predict(train_dev_df))\n",
    "    print(\"Accuracy at epoch \"+str(i+1)+\": \"+str(acc))\n",
    "    print(\"-------------------------------------------------------\")\n",
    "    validation_acc.append(acc)"
   ]
  },
  {
   "cell_type": "markdown",
   "metadata": {},
   "source": [
    "If we look at the learning speed, the learning speed is decreased after 50: "
   ]
  },
  {
   "cell_type": "code",
   "execution_count": 1974,
   "metadata": {},
   "outputs": [
    {
     "data": {
      "text/plain": [
       "[<matplotlib.lines.Line2D at 0x23cd1492580>]"
      ]
     },
     "execution_count": 1974,
     "metadata": {},
     "output_type": "execute_result"
    },
    {
     "data": {
      "image/png": "[encoded data removed]",
      "text/plain": [
       "<Figure size 432x288 with 1 Axes>"
      ]
     },
     "metadata": {},
     "output_type": "display_data"
    }
   ],
   "source": [
    "arr_epoch_number = [i for i in range(1,101)]\n",
    "plt.title('Loss in each epoch')\n",
    "plt.plot(arr_epoch_number, single_neural_network14.all_epoch_loss_list)"
   ]
  },
  {
   "cell_type": "markdown",
   "metadata": {},
   "source": [
    "Also, the accuracy is extremely decreased after 40 epoch. We can say that, the model is overfit after 40 epoch. So, we can set our epoch number is 40 for high accuracy which is ~0.36 on validation data."
   ]
  },
  {
   "cell_type": "code",
   "execution_count": 1978,
   "metadata": {
    "scrolled": true
   },
   "outputs": [
    {
     "data": {
      "text/plain": [
       "[<matplotlib.lines.Line2D at 0x23cd24ee280>]"
      ]
     },
     "execution_count": 1978,
     "metadata": {},
     "output_type": "execute_result"
    },
    {
     "data": {
      "image/png": "[encoded data removed]",
      "text/plain": [
       "<Figure size 432x288 with 1 Axes>"
      ]
     },
     "metadata": {},
     "output_type": "display_data"
    }
   ],
   "source": [
    "arr_epoch_number = [i for i in range(1,101)]\n",
    "plt.title('Accuracy in each epoch')\n",
    "plt.plot(arr_epoch_number, validation_acc)"
   ]
  },
  {
   "cell_type": "markdown",
   "metadata": {},
   "source": [
    "### Batch Size"
   ]
  },
  {
   "cell_type": "markdown",
   "metadata": {},
   "source": [
    "Thus far, we set our learning rate as 0.005 and set our epoch as 40. We set our batch size always as 1. But, to increase the time efficiency of training operation, we need to set mini-batch size more than 1. So, we need to find optimum batch size for update frequency:"
   ]
  },
  {
   "cell_type": "code",
   "execution_count": 1982,
   "metadata": {},
   "outputs": [
    {
     "name": "stdout",
     "output_type": "stream",
     "text": [
      "Loss with batch size 16: 0.13637059284418598\n",
      "Accuracy with batch size 16: 0.2776666666666667\n",
      "-------------------------------------------------------\n",
      "Loss with batch size 32: 0.1409829799321674\n",
      "Accuracy with batch size 32: 0.234\n",
      "-------------------------------------------------------\n",
      "Loss with batch size 64: 0.14266376604091613\n",
      "Accuracy with batch size 64: 0.17833333333333334\n",
      "-------------------------------------------------------\n",
      "Loss with batch size 128: 0.1425389106207936\n",
      "Accuracy with batch size 128: 0.188\n",
      "-------------------------------------------------------\n"
     ]
    }
   ],
   "source": [
    "learning_rate=0.005\n",
    "validation_acc=[]\n",
    "batch_size_list=[16,32,64,128]\n",
    "for batch_size in batch_size_list:\n",
    "    single_neural_network15 = Single_Neural_Network(is_sigmoid=True, is_mse=True)\n",
    "    for i in range(0,40):\n",
    "        single_neural_network15.train(train_image_df, LEARNING_RATE=learning_rate, batch_size=batch_size)\n",
    "\n",
    "    print(\"Loss with batch size \"+str(batch_size)+\": \"+str(single_neural_network15.all_epoch_loss_list[i]))\n",
    "    acc=accuracy_score(train_dev_df[\"class name\"].values, single_neural_network15.predict(train_dev_df))\n",
    "    validation_acc.append(acc)\n",
    "    print(\"Accuracy with batch size \"+str(batch_size)+\": \"+str(acc))\n",
    "    print(\"-------------------------------------------------------\")"
   ]
  },
  {
   "cell_type": "markdown",
   "metadata": {},
   "source": [
    "Because of the accuracy is decreased, I decided to set batch size as 1."
   ]
  },
  {
   "cell_type": "markdown",
   "metadata": {},
   "source": [
    "### Activation and Objective Function"
   ]
  },
  {
   "cell_type": "markdown",
   "metadata": {},
   "source": [
    "We have used sigmoid function and mean square error for our model, and get accuracy as 0.36 with validation data. In this part, we will try different activation and objective function and calculate loss values with different loss function."
   ]
  },
  {
   "cell_type": "markdown",
   "metadata": {},
   "source": [
    "- **Sigmoid and mean square error**"
   ]
  },
  {
   "cell_type": "code",
   "execution_count": 2040,
   "metadata": {
    "scrolled": true
   },
   "outputs": [
    {
     "name": "stdout",
     "output_type": "stream",
     "text": [
      "Epoch 1: 0.13336170268454875\n",
      "Accuracy at epoch 1: 0.35433333333333333\n",
      "-------------------------------------------------------\n",
      "Epoch 2: 0.13021582982235472\n",
      "Accuracy at epoch 2: 0.36233333333333334\n",
      "-------------------------------------------------------\n",
      "Epoch 3: 0.12938641661990224\n",
      "Accuracy at epoch 3: 0.362\n",
      "-------------------------------------------------------\n",
      "Epoch 4: 0.12877668861055105\n",
      "Accuracy at epoch 4: 0.362\n",
      "-------------------------------------------------------\n",
      "Epoch 5: 0.12825747711099458\n",
      "Accuracy at epoch 5: 0.364\n",
      "-------------------------------------------------------\n",
      "Epoch 6: 0.12779341066863953\n",
      "Accuracy at epoch 6: 0.362\n",
      "-------------------------------------------------------\n",
      "Epoch 7: 0.12736954945440343\n",
      "Accuracy at epoch 7: 0.365\n",
      "-------------------------------------------------------\n",
      "Epoch 8: 0.12697786734988664\n",
      "Accuracy at epoch 8: 0.36633333333333334\n",
      "-------------------------------------------------------\n",
      "Epoch 9: 0.12661332157273816\n",
      "Accuracy at epoch 9: 0.3636666666666667\n",
      "-------------------------------------------------------\n",
      "Epoch 10: 0.1262723848894145\n",
      "Accuracy at epoch 10: 0.3636666666666667\n",
      "-------------------------------------------------------\n",
      "Epoch 11: 0.12595239827363872\n",
      "Accuracy at epoch 11: 0.3616666666666667\n",
      "-------------------------------------------------------\n",
      "Epoch 12: 0.12565124783364376\n",
      "Accuracy at epoch 12: 0.3616666666666667\n",
      "-------------------------------------------------------\n",
      "Epoch 13: 0.1253671876346001\n",
      "Accuracy at epoch 13: 0.361\n",
      "-------------------------------------------------------\n",
      "Epoch 14: 0.1250987352461181\n",
      "Accuracy at epoch 14: 0.363\n",
      "-------------------------------------------------------\n",
      "Epoch 15: 0.1248446064584432\n",
      "Accuracy at epoch 15: 0.36233333333333334\n",
      "-------------------------------------------------------\n",
      "Epoch 16: 0.12460367235097854\n",
      "Accuracy at epoch 16: 0.3616666666666667\n",
      "-------------------------------------------------------\n",
      "Epoch 17: 0.12437492974577212\n",
      "Accuracy at epoch 17: 0.36433333333333334\n",
      "-------------------------------------------------------\n",
      "Epoch 18: 0.12415747998474942\n",
      "Accuracy at epoch 18: 0.363\n",
      "-------------------------------------------------------\n",
      "Epoch 19: 0.12395051306922024\n",
      "Accuracy at epoch 19: 0.36433333333333334\n",
      "-------------------------------------------------------\n",
      "Epoch 20: 0.12375329542838095\n",
      "Accuracy at epoch 20: 0.363\n",
      "-------------------------------------------------------\n",
      "Epoch 21: 0.12356516017454075\n",
      "Accuracy at epoch 21: 0.36333333333333334\n",
      "-------------------------------------------------------\n",
      "Epoch 22: 0.12338549918593046\n",
      "Accuracy at epoch 22: 0.3626666666666667\n",
      "-------------------------------------------------------\n",
      "Epoch 23: 0.12321375645833973\n",
      "Accuracy at epoch 23: 0.36233333333333334\n",
      "-------------------------------------------------------\n",
      "Epoch 24: 0.12304942256981675\n",
      "Accuracy at epoch 24: 0.3616666666666667\n",
      "-------------------------------------------------------\n",
      "Epoch 25: 0.12289202984606713\n",
      "Accuracy at epoch 25: 0.36233333333333334\n",
      "-------------------------------------------------------\n",
      "Epoch 26: 0.12274114818892168\n",
      "Accuracy at epoch 26: 0.362\n",
      "-------------------------------------------------------\n",
      "Epoch 27: 0.12259638148839558\n",
      "Accuracy at epoch 27: 0.3616666666666667\n",
      "-------------------------------------------------------\n",
      "Epoch 28: 0.12245736434608263\n",
      "Accuracy at epoch 28: 0.363\n",
      "-------------------------------------------------------\n",
      "Epoch 29: 0.12232375928398796\n",
      "Accuracy at epoch 29: 0.3636666666666667\n",
      "-------------------------------------------------------\n",
      "Epoch 30: 0.12219525417532585\n",
      "Accuracy at epoch 30: 0.363\n",
      "-------------------------------------------------------\n",
      "Epoch 31: 0.12207155998880598\n",
      "Accuracy at epoch 31: 0.36233333333333334\n",
      "-------------------------------------------------------\n",
      "Epoch 32: 0.1219524087614988\n",
      "Accuracy at epoch 32: 0.3616666666666667\n",
      "-------------------------------------------------------\n",
      "Epoch 33: 0.12183755178410978\n",
      "Accuracy at epoch 33: 0.3616666666666667\n",
      "-------------------------------------------------------\n",
      "Epoch 34: 0.12172675790062276\n",
      "Accuracy at epoch 34: 0.36133333333333334\n",
      "-------------------------------------------------------\n",
      "Epoch 35: 0.12161981210255557\n",
      "Accuracy at epoch 35: 0.36133333333333334\n",
      "-------------------------------------------------------\n",
      "Epoch 36: 0.1215165141315\n",
      "Accuracy at epoch 36: 0.362\n",
      "-------------------------------------------------------\n",
      "Epoch 37: 0.12141667726522198\n",
      "Accuracy at epoch 37: 0.363\n",
      "-------------------------------------------------------\n",
      "Epoch 38: 0.12132012725622326\n",
      "Accuracy at epoch 38: 0.362\n",
      "-------------------------------------------------------\n",
      "Epoch 39: 0.1212267012838269\n",
      "Accuracy at epoch 39: 0.3616666666666667\n",
      "-------------------------------------------------------\n",
      "Epoch 40: 0.12113624708027458\n",
      "Accuracy at epoch 40: 0.362\n",
      "-------------------------------------------------------\n"
     ]
    }
   ],
   "source": [
    "single_neural_network21 = Single_Neural_Network(is_sigmoid=True, is_mse=True)\n",
    "\n",
    "for i in range(0,40):\n",
    "    single_neural_network21.train(train_image_df, LEARNING_RATE=0.005, batch_size=1)\n",
    "    print(\"Epoch \"+str(i+1)+\": \"+str(single_neural_network21.all_epoch_loss_list[i]))\n",
    "    acc=accuracy_score(train_dev_df[\"class name\"].values, single_neural_network21.predict(train_dev_df))\n",
    "    print(\"Accuracy at epoch \"+str(i+1)+\": \"+str(acc))\n",
    "    print(\"-------------------------------------------------------\")"
   ]
  },
  {
   "cell_type": "markdown",
   "metadata": {},
   "source": [
    "For sigmoid and mean square error, we get 0.362 accuracy."
   ]
  },
  {
   "cell_type": "markdown",
   "metadata": {},
   "source": [
    "- **Softmax and negative log likelihood**"
   ]
  },
  {
   "cell_type": "code",
   "execution_count": 2050,
   "metadata": {
    "scrolled": true
   },
   "outputs": [
    {
     "name": "stdout",
     "output_type": "stream",
     "text": [
      "Epoch 1: 25884.8567790583\n",
      "Accuracy at epoch 1: 0.31133333333333335\n",
      "-------------------------------------------------------\n",
      "Epoch 2: 25127.30471789658\n",
      "Accuracy at epoch 2: 0.30966666666666665\n",
      "-------------------------------------------------------\n",
      "Epoch 3: 24713.417138108525\n",
      "Accuracy at epoch 3: 0.31266666666666665\n",
      "-------------------------------------------------------\n",
      "Epoch 4: 24435.571638754038\n",
      "Accuracy at epoch 4: 0.316\n",
      "-------------------------------------------------------\n",
      "Epoch 5: 24238.208211209698\n",
      "Accuracy at epoch 5: 0.31733333333333336\n",
      "-------------------------------------------------------\n",
      "Epoch 6: 24092.825598935793\n",
      "Accuracy at epoch 6: 0.31633333333333336\n",
      "-------------------------------------------------------\n",
      "Epoch 7: 23982.942960511868\n",
      "Accuracy at epoch 7: 0.318\n",
      "-------------------------------------------------------\n",
      "Epoch 8: 23898.290307889096\n",
      "Accuracy at epoch 8: 0.31766666666666665\n",
      "-------------------------------------------------------\n",
      "Epoch 9: 23832.116316826246\n",
      "Accuracy at epoch 9: 0.31733333333333336\n",
      "-------------------------------------------------------\n",
      "Epoch 10: 23779.798779718134\n",
      "Accuracy at epoch 10: 0.31866666666666665\n",
      "-------------------------------------------------------\n",
      "Epoch 11: 23738.06997248689\n",
      "Accuracy at epoch 11: 0.31966666666666665\n",
      "-------------------------------------------------------\n",
      "Epoch 12: 23704.5588194483\n",
      "Accuracy at epoch 12: 0.319\n",
      "-------------------------------------------------------\n",
      "Epoch 13: 23677.507328078493\n",
      "Accuracy at epoch 13: 0.32033333333333336\n",
      "-------------------------------------------------------\n",
      "Epoch 14: 23655.588299523173\n",
      "Accuracy at epoch 14: 0.32033333333333336\n",
      "-------------------------------------------------------\n",
      "Epoch 15: 23637.784235633706\n",
      "Accuracy at epoch 15: 0.31966666666666665\n",
      "-------------------------------------------------------\n",
      "Epoch 16: 23623.304738993305\n",
      "Accuracy at epoch 16: 0.31766666666666665\n",
      "-------------------------------------------------------\n",
      "Epoch 17: 23611.528760761656\n",
      "Accuracy at epoch 17: 0.31766666666666665\n",
      "-------------------------------------------------------\n",
      "Epoch 18: 23601.963476616824\n",
      "Accuracy at epoch 18: 0.31866666666666665\n",
      "-------------------------------------------------------\n",
      "Epoch 19: 23594.21436251759\n",
      "Accuracy at epoch 19: 0.31833333333333336\n",
      "-------------------------------------------------------\n",
      "Epoch 20: 23587.963158945437\n",
      "Accuracy at epoch 20: 0.31866666666666665\n",
      "-------------------------------------------------------\n",
      "Epoch 21: 23582.951355157267\n",
      "Accuracy at epoch 21: 0.319\n",
      "-------------------------------------------------------\n",
      "Epoch 22: 23578.96771096618\n",
      "Accuracy at epoch 22: 0.31866666666666665\n",
      "-------------------------------------------------------\n",
      "Epoch 23: 23575.838653493855\n",
      "Accuracy at epoch 23: 0.31866666666666665\n",
      "-------------------------------------------------------\n",
      "Epoch 24: 23573.420881677535\n",
      "Accuracy at epoch 24: 0.31733333333333336\n",
      "-------------------------------------------------------\n",
      "Epoch 25: 23571.595578221248\n",
      "Accuracy at epoch 25: 0.31733333333333336\n",
      "-------------------------------------------------------\n",
      "Epoch 26: 23570.263858383834\n",
      "Accuracy at epoch 26: 0.31733333333333336\n",
      "-------------------------------------------------------\n",
      "Epoch 27: 23569.343127312855\n",
      "Accuracy at epoch 27: 0.317\n",
      "-------------------------------------------------------\n",
      "Epoch 28: 23568.76420596947\n",
      "Accuracy at epoch 28: 0.318\n",
      "-------------------------------------------------------\n",
      "Epoch 29: 23568.46901852248\n",
      "Accuracy at epoch 29: 0.31833333333333336\n",
      "-------------------------------------------------------\n",
      "Epoch 30: 23568.40867569838\n",
      "Accuracy at epoch 30: 0.31966666666666665\n",
      "-------------------------------------------------------\n",
      "Epoch 31: 23568.54197107524\n",
      "Accuracy at epoch 31: 0.32\n",
      "-------------------------------------------------------\n",
      "Epoch 32: 23568.834111393648\n",
      "Accuracy at epoch 32: 0.32\n",
      "-------------------------------------------------------\n",
      "Epoch 33: 23569.255701242673\n",
      "Accuracy at epoch 33: 0.319\n",
      "-------------------------------------------------------\n",
      "Epoch 34: 23569.781848029215\n",
      "Accuracy at epoch 34: 0.319\n",
      "-------------------------------------------------------\n",
      "Epoch 35: 23570.39151982216\n",
      "Accuracy at epoch 35: 0.31833333333333336\n",
      "-------------------------------------------------------\n",
      "Epoch 36: 23571.066900617494\n",
      "Accuracy at epoch 36: 0.31866666666666665\n",
      "-------------------------------------------------------\n",
      "Epoch 37: 23571.792938775812\n",
      "Accuracy at epoch 37: 0.31766666666666665\n",
      "-------------------------------------------------------\n",
      "Epoch 38: 23572.556891494423\n",
      "Accuracy at epoch 38: 0.31766666666666665\n",
      "-------------------------------------------------------\n",
      "Epoch 39: 23573.348010486938\n",
      "Accuracy at epoch 39: 0.31833333333333336\n",
      "-------------------------------------------------------\n",
      "Epoch 40: 23574.15725870572\n",
      "Accuracy at epoch 40: 0.318\n",
      "-------------------------------------------------------\n"
     ]
    }
   ],
   "source": [
    "single_neural_network22 = Single_Neural_Network(is_softmax=True, is_neg_log_likelihood=True)\n",
    "\n",
    "for i in range(0,40):\n",
    "    single_neural_network22.train(train_image_df, LEARNING_RATE=0.005, batch_size=1)\n",
    "    print(\"Epoch \"+str(i+1)+\": \"+str(single_neural_network22.all_epoch_loss_list[i]))\n",
    "    acc=accuracy_score(train_dev_df[\"class name\"].values, single_neural_network22.predict(train_dev_df))\n",
    "    print(\"Accuracy at epoch \"+str(i+1)+\": \"+str(acc))\n",
    "    print(\"-------------------------------------------------------\")"
   ]
  },
  {
   "cell_type": "markdown",
   "metadata": {},
   "source": [
    "We get accuracy as 0.32 after training the model with softmax and negative log likelihood."
   ]
  },
  {
   "cell_type": "markdown",
   "metadata": {},
   "source": [
    "- **ReLu and mean square error**"
   ]
  },
  {
   "cell_type": "code",
   "execution_count": 2132,
   "metadata": {
    "scrolled": true
   },
   "outputs": [
    {
     "name": "stdout",
     "output_type": "stream",
     "text": [
      "Epoch 1: 0.2187514015083314\n",
      "Accuracy at epoch 1: 0.255\n",
      "-------------------------------------------------------\n",
      "Epoch 2: 0.21018911577417446\n",
      "Accuracy at epoch 2: 0.25866666666666666\n",
      "-------------------------------------------------------\n",
      "Epoch 3: 0.2062543377245442\n",
      "Accuracy at epoch 3: 0.25966666666666666\n",
      "-------------------------------------------------------\n",
      "Epoch 4: 0.20418356969038468\n",
      "Accuracy at epoch 4: 0.258\n",
      "-------------------------------------------------------\n",
      "Epoch 5: 0.20286041472007074\n",
      "Accuracy at epoch 5: 0.255\n",
      "-------------------------------------------------------\n",
      "Epoch 6: 0.20203264736086882\n",
      "Accuracy at epoch 6: 0.24966666666666668\n",
      "-------------------------------------------------------\n",
      "Epoch 7: 0.20147275982862653\n",
      "Accuracy at epoch 7: 0.24933333333333332\n",
      "-------------------------------------------------------\n",
      "Epoch 8: 0.2011015662118141\n",
      "Accuracy at epoch 8: 0.25166666666666665\n",
      "-------------------------------------------------------\n",
      "Epoch 9: 0.20083518416637355\n",
      "Accuracy at epoch 9: 0.25133333333333335\n",
      "-------------------------------------------------------\n",
      "Epoch 10: 0.20064816228398683\n",
      "Accuracy at epoch 10: 0.25166666666666665\n",
      "-------------------------------------------------------\n",
      "Epoch 11: 0.2005177496532898\n",
      "Accuracy at epoch 11: 0.25133333333333335\n",
      "-------------------------------------------------------\n",
      "Epoch 12: 0.2004283682062911\n",
      "Accuracy at epoch 12: 0.252\n",
      "-------------------------------------------------------\n",
      "Epoch 13: 0.20036457331266475\n",
      "Accuracy at epoch 13: 0.25433333333333336\n",
      "-------------------------------------------------------\n",
      "Epoch 14: 0.20031357904871333\n",
      "Accuracy at epoch 14: 0.25433333333333336\n",
      "-------------------------------------------------------\n",
      "Epoch 15: 0.20027618873277317\n",
      "Accuracy at epoch 15: 0.255\n",
      "-------------------------------------------------------\n",
      "Epoch 16: 0.2002435120513888\n",
      "Accuracy at epoch 16: 0.25633333333333336\n",
      "-------------------------------------------------------\n",
      "Epoch 17: 0.20021799692172398\n",
      "Accuracy at epoch 17: 0.25733333333333336\n",
      "-------------------------------------------------------\n",
      "Epoch 18: 0.2001970666418442\n",
      "Accuracy at epoch 18: 0.257\n",
      "-------------------------------------------------------\n",
      "Epoch 19: 0.20017940479327082\n",
      "Accuracy at epoch 19: 0.258\n",
      "-------------------------------------------------------\n",
      "Epoch 20: 0.20016579486310948\n",
      "Accuracy at epoch 20: 0.25866666666666666\n",
      "-------------------------------------------------------\n",
      "Epoch 21: 0.20015465291764337\n",
      "Accuracy at epoch 21: 0.25833333333333336\n",
      "-------------------------------------------------------\n",
      "Epoch 22: 0.20014577497183866\n",
      "Accuracy at epoch 22: 0.25866666666666666\n",
      "-------------------------------------------------------\n",
      "Epoch 23: 0.20013815253643366\n",
      "Accuracy at epoch 23: 0.25866666666666666\n",
      "-------------------------------------------------------\n",
      "Epoch 24: 0.20013156888905\n",
      "Accuracy at epoch 24: 0.25866666666666666\n",
      "-------------------------------------------------------\n",
      "Epoch 25: 0.2001257899089549\n",
      "Accuracy at epoch 25: 0.25833333333333336\n",
      "-------------------------------------------------------\n",
      "Epoch 26: 0.20012062640088263\n",
      "Accuracy at epoch 26: 0.25833333333333336\n",
      "-------------------------------------------------------\n",
      "Epoch 27: 0.20011633837115925\n",
      "Accuracy at epoch 27: 0.25833333333333336\n",
      "-------------------------------------------------------\n",
      "Epoch 28: 0.2001129199955149\n",
      "Accuracy at epoch 28: 0.25866666666666666\n",
      "-------------------------------------------------------\n",
      "Epoch 29: 0.20011010245695224\n",
      "Accuracy at epoch 29: 0.25866666666666666\n",
      "-------------------------------------------------------\n",
      "Epoch 30: 0.20010770256620858\n",
      "Accuracy at epoch 30: 0.25866666666666666\n",
      "-------------------------------------------------------\n",
      "Epoch 31: 0.20010546319327868\n",
      "Accuracy at epoch 31: 0.25866666666666666\n",
      "-------------------------------------------------------\n",
      "Epoch 32: 0.20010339059037505\n",
      "Accuracy at epoch 32: 0.25866666666666666\n",
      "-------------------------------------------------------\n",
      "Epoch 33: 0.20010154034950442\n",
      "Accuracy at epoch 33: 0.25866666666666666\n",
      "-------------------------------------------------------\n",
      "Epoch 34: 0.20010010453594826\n",
      "Accuracy at epoch 34: 0.25833333333333336\n",
      "-------------------------------------------------------\n",
      "Epoch 35: 0.2000987861323818\n",
      "Accuracy at epoch 35: 0.25766666666666665\n",
      "-------------------------------------------------------\n",
      "Epoch 36: 0.2000976417083311\n",
      "Accuracy at epoch 36: 0.25766666666666665\n",
      "-------------------------------------------------------\n",
      "Epoch 37: 0.2000965370730878\n",
      "Accuracy at epoch 37: 0.25766666666666665\n",
      "-------------------------------------------------------\n",
      "Epoch 38: 0.2000955110755993\n",
      "Accuracy at epoch 38: 0.25766666666666665\n",
      "-------------------------------------------------------\n",
      "Epoch 39: 0.20009459427987233\n",
      "Accuracy at epoch 39: 0.25766666666666665\n",
      "-------------------------------------------------------\n",
      "Epoch 40: 0.20009375347128494\n",
      "Accuracy at epoch 40: 0.258\n",
      "-------------------------------------------------------\n"
     ]
    }
   ],
   "source": [
    "single_neural_network23 = Single_Neural_Network(is_relu=True, is_mse=True)\n",
    "\n",
    "for i in range(0,40):\n",
    "    single_neural_network23.train(train_image_df, LEARNING_RATE=0.005, batch_size=1)\n",
    "    print(\"Epoch \"+str(i+1)+\": \"+str(single_neural_network23.all_epoch_loss_list[i]))\n",
    "    acc=accuracy_score(train_dev_df[\"class name\"].values, single_neural_network23.predict(train_dev_df))\n",
    "    print(\"Accuracy at epoch \"+str(i+1)+\": \"+str(acc))\n",
    "    print(\"-------------------------------------------------------\")"
   ]
  },
  {
   "cell_type": "markdown",
   "metadata": {},
   "source": [
    "We get the most low accuracy for relu and mse used in model."
   ]
  },
  {
   "cell_type": "markdown",
   "metadata": {},
   "source": [
    "If we look at our first model, we can say that the centers of the images are more weighted in neural network. So, the importance is increased in the middle of the image."
   ]
  },
  {
   "cell_type": "code",
   "execution_count": 2136,
   "metadata": {},
   "outputs": [
    {
     "data": {
      "image/png": "[encoded data removed]",
      "text/plain": [
       "<Figure size 432x288 with 1 Axes>"
      ]
     },
     "metadata": {},
     "output_type": "display_data"
    }
   ],
   "source": [
    "import matplotlib.pyplot as plt\n",
    "import numpy as np\n",
    "\n",
    "www = single_neural_network21.weights\n",
    "def plot_parameters(www, size1, size2):\n",
    "    plt.figure()\n",
    "    plt.imshow(www.reshape(size1,size2)) \n",
    "    plt.show() \n",
    "\n",
    "#Usage\n",
    "plot_parameters(www,60,90)"
   ]
  },
  {
   "cell_type": "code",
   "execution_count": 2133,
   "metadata": {},
   "outputs": [],
   "source": [
    "np.savetxt(\"weights_sigmoid_mse.csv\", single_neural_network21.weights, delimiter=\",\")"
   ]
  },
  {
   "cell_type": "code",
   "execution_count": null,
   "metadata": {},
   "outputs": [],
   "source": []
  },
  {
   "cell_type": "markdown",
   "metadata": {
    "scrolled": false
   },
   "source": [
    "## 3. Multi Layer Neural Network"
   ]
  },
  {
   "cell_type": "code",
   "execution_count": 108,
   "metadata": {},
   "outputs": [],
   "source": [
    "class Multiple_Neural_Network:\n",
    "    def __init__(self, hidden_layer_size=2,number_of_hidden_layer=1):\n",
    "        self.all_epoch_loss_list = []\n",
    "        \n",
    "        # weight initialization\n",
    "        self.weights=np.zeros((6,hidden_layer_size))\n",
    "        for i in range(0,self.weights.shape[0]):\n",
    "            for j in range(0,self.weights.shape[1]):\n",
    "                self.weights[i][j] = 0.001\n",
    "                \n",
    "        self.first_layer_hidden_weights=np.zeros((hidden_layer_size,900))\n",
    "        for i in range(0,self.first_layer_hidden_weights.shape[0]):\n",
    "            for j in range(0,self.first_layer_hidden_weights.shape[1]):\n",
    "                self.first_layer_hidden_weights[i][j] = 0.001\n",
    "                \n",
    "        if(number_of_hidden_layer>1) :     \n",
    "            self.interval_hidden_weights=np.zeros((number_of_hidden_layer-1,hidden_layer_size,hidden_layer_size)) #shape=(each layer, inputs of this layer, output of this layer)\n",
    "            for k in range(0,self.interval_hidden_weights.shape[0]):\n",
    "                for i in range(0,self.interval_hidden_weights.shape[1]):\n",
    "                    for j in range(0,self.interval_hidden_weights.shape[2]):\n",
    "                        self.interval_hidden_weights[k][i][j] = 0.001\n",
    "                \n",
    "        self.errors=np.zeros((self.weights.shape[0]))\n",
    "        self.hidden_layer_size=hidden_layer_size\n",
    "        self.number_of_hidden_layer=number_of_hidden_layer\n",
    "    \n",
    "    def __forwarding(self, inputs, output_neuron):\n",
    "        input_for_activation = np.dot(inputs, self.weights[output_neuron])\n",
    "        return 1/(1+np.exp(-input_for_activation))\n",
    "    \n",
    "    \n",
    "    def train(self, train_data_df, LEARNING_RATE=0.005, batch_size=1):\n",
    "        \n",
    "        # We create weights for each output neuron. Each row indicates weights links to the each output neuron\n",
    "        output_neuron_size = train_data_df[\"class name\"].unique().shape[0]\n",
    "        number_of_weights = train_data_df[\"image\"][0].shape[1]\n",
    "        classes1 = train_data_df[\"class name\"].unique()\n",
    "        classes2 = train_data_df[\"class name\"].unique()\n",
    "        classes1.sort()\n",
    "        classes2.sort()\n",
    "        self.classes1 = classes1\n",
    "        self.classes2 = classes2\n",
    "        \n",
    "        loss_list = []\n",
    "        \n",
    "        #mini batch variables\n",
    "        new_weights = np.zeros((output_neuron_size, number_of_weights))\n",
    "        batch_counter=1\n",
    "        self.batch_size=batch_size\n",
    "        \n",
    "        for id_value in train_data_df[\"id\"]: # We update each weights seperately by output neurons.\n",
    "            \n",
    "            class_name = train_data_df.loc[id_value][\"class name\"]\n",
    "            input_neurons = train_data_df.loc[id_value][\"image\"][0]\n",
    "                \n",
    "            #This gives the true y values of output neurons\n",
    "            \n",
    "            expected_output_array = np.zeros((1, output_neuron_size))[0]\n",
    "            expected_output_array[class_name] = 1\n",
    "            outputs = np.zeros((self.weights.shape[0]))\n",
    "            first_hidden_outputs = np.zeros((self.hidden_layer_size))\n",
    "            if self.number_of_hidden_layer>1:\n",
    "                interval_hidden_input = np.zeros((self.number_of_hidden_layer-1, self.hidden_layer_size))\n",
    "            \n",
    "            \n",
    "            #Calculate FORWARD for first hidden layer\n",
    "            input_hidden_layer=input_neurons\n",
    "            for output_neuron in range(0,self.hidden_layer_size):\n",
    "                input_for_activation = np.dot(input_neurons, self.first_layer_hidden_weights[output_neuron])\n",
    "                first_hidden_outputs[output_neuron] = 1/(1+np.exp(-input_for_activation))\n",
    "            input_hidden_layer = first_hidden_outputs\n",
    "            \n",
    "            #Calculate FORWARD for each neuron in each interval hidden layer\n",
    "            for layer in range(0,self.number_of_hidden_layer-1):\n",
    "                interval_hidden_outputs = np.zeros((self.number_of_hidden_layer-1, self.hidden_layer_size))\n",
    "                interval_hidden_input[layer] = input_hidden_layer\n",
    "                for output_neuron in range(0,self.interval_hidden_weights.shape[1]):\n",
    "                    input_for_activation = np.dot(input_hidden_layer, self.interval_hidden_weights[layer][output_neuron])\n",
    "                    interval_hidden_outputs[layer][output_neuron] = 1/(1+np.exp(-input_for_activation))\n",
    "                input_hidden_layer = interval_hidden_outputs[layer]\n",
    "               \n",
    "            #Calculate FORWARD for each output neuron\n",
    "            for output_neuron in classes1:\n",
    "                input_for_activation = np.dot(input_hidden_layer, self.weights[output_neuron])\n",
    "                outputs[output_neuron] = 1/(1+np.exp(-input_for_activation))\n",
    "            \n",
    "                \n",
    "            #Calculate error for each output neuron\n",
    "            for output_n in classes2: \n",
    "                self.errors[output_n] += expected_output_array[output_n]-outputs[output_n]\n",
    "                    \n",
    "    \n",
    "            #mini batch update\n",
    "            if self.batch_size==batch_counter:\n",
    "                # backward calculation start with outout layer\n",
    "                delta_output=np.zeros((1,self.weights.shape[0]))\n",
    "                \n",
    "                for output_n in classes2:\n",
    "                    delta=LEARNING_RATE*(self.errors[output_n] / self.batch_size) * outputs[output_n] * (1 - outputs[output_n]) \n",
    "\n",
    "                    self.weights[output_n] += delta* input_hidden_layer\n",
    "                    delta_output[0][output_n] = delta\n",
    "                    \n",
    "                # backward calculation in each interval hidden layer\n",
    "                interval_hidden_delta_output=np.zeros((1,self.hidden_layer_size))\n",
    "                z2_error = delta_output.dot(self.weights) [0]\n",
    "                for layer in range(self.number_of_hidden_layer-2,-1,-1):\n",
    "                    delta_output=np.zeros((1,self.interval_hidden_weights.shape[1]))\n",
    "                    for output_neuron in range(0,self.interval_hidden_weights.shape[1]):\n",
    "                        \n",
    "                        input_for_activation = np.dot(interval_hidden_input[layer], self.interval_hidden_weights[layer][output_neuron])\n",
    "                        delta=LEARNING_RATE*(z2_error[output_neuron]) * input_for_activation * (1 - input_for_activation) \n",
    "                        self.interval_hidden_weights[layer][output_n] += delta* interval_hidden_input[layer]\n",
    "                        delta_output[0][output_n] = delta\n",
    "                    z2_error = z2_error.dot(delta_output.T)\n",
    "                    z2_error = z2_error.dot(self.interval_hidden_weights[layer]) [0]\n",
    "\n",
    "\n",
    "                for output_neuron in range(0,self.first_layer_hidden_weights.shape[0]):\n",
    "                        \n",
    "                    input_for_activation = np.dot(input_neurons , self.first_layer_hidden_weights[output_neuron])\n",
    "                    delta=LEARNING_RATE*(z2_error[output_neuron]) * input_for_activation * (1 - input_for_activation) \n",
    " \n",
    "                    self.first_layer_hidden_weights[output_neuron] += delta* input_neurons\n",
    "                \n",
    "                batch_counter=1\n",
    "                self.errors=np.zeros((self.weights.shape[0]))\n",
    "            else:\n",
    "                batch_counter+=1\n",
    "            loss_list.append(np.mean(np.square(expected_output_array-outputs)))\n",
    "       \n",
    "        self.all_epoch_loss_list.append(np.mean(loss_list))\n",
    "        \n",
    "    def predict(self, predict_data):\n",
    "        self.prediction_list=[]\n",
    "        output_neuron_size = predict_data[\"class name\"].unique().shape[0]\n",
    "        for id_value in predict_data[\"id\"]:\n",
    "            input_neurons = predict_data[predict_data[\"id\"]==id_value][\"image\"].values[0][0]\n",
    "            \n",
    "            outputs = np.zeros((self.weights.shape[0]))        \n",
    "            \n",
    "            \n",
    "            first_hidden_outputs = np.zeros((self.hidden_layer_size))\n",
    "            if self.number_of_hidden_layer>1:\n",
    "                interval_hidden_input = np.zeros((self.number_of_hidden_layer, self.hidden_layer_size))\n",
    "            \n",
    "            \n",
    "            #Calculate FORWARD for first hidden layer\n",
    "            input_hidden_layer=input_neurons\n",
    "            for output_neuron in range(0,self.hidden_layer_size):\n",
    "                input_for_activation = np.dot(input_neurons, self.first_layer_hidden_weights[output_neuron])\n",
    "                first_hidden_outputs[output_neuron] = 1/(1+np.exp(-input_for_activation))\n",
    "            input_hidden_layer = first_hidden_outputs\n",
    "            \n",
    "            #Calculate FORWARD for each neuron in each interval hidden layer\n",
    "            for layer in range(0,self.number_of_hidden_layer-1):\n",
    "                interval_hidden_outputs = np.zeros((self.number_of_hidden_layer-1, self.hidden_layer_size))\n",
    "                interval_hidden_input[layer] = input_hidden_layer\n",
    "                for output_neuron in range(0,self.interval_hidden_weights.shape[1]):\n",
    "                    input_for_activation = np.dot(input_hidden_layer, self.interval_hidden_weights[layer][output_neuron])\n",
    "                    interval_hidden_outputs[layer][output_neuron] = 1/(1+np.exp(-input_for_activation))\n",
    "                input_hidden_layer = interval_hidden_outputs[layer]\n",
    "                \n",
    "            #Calculate FORWARD for each output neuron\n",
    "            for output_neuron in self.classes1:\n",
    "                input_for_activation = np.dot(input_hidden_layer, self.weights[output_neuron])\n",
    "                outputs[output_neuron] = 1/(1+np.exp(-input_for_activation))\n",
    "\n",
    "            \n",
    "    \n",
    "            outputs = outputs.tolist()\n",
    "            self.prediction_list.append(outputs.index(max(outputs)))\n",
    "        return self.prediction_list"
   ]
  },
  {
   "cell_type": "code",
   "execution_count": 109,
   "metadata": {},
   "outputs": [],
   "source": [
    "multiple_neural_networkkk = Multiple_Neural_Network(number_of_hidden_layer=1)"
   ]
  },
  {
   "cell_type": "code",
   "execution_count": null,
   "metadata": {
    "scrolled": true
   },
   "outputs": [],
   "source": [
    "for i in range(0,10):\n",
    "    multiple_neural_networkkk.train(train_image_df, LEARNING_RATE=1, batch_size=4)\n",
    "multiple_neural_networkkk.all_epoch_loss_list"
   ]
  },
  {
   "cell_type": "code",
   "execution_count": null,
   "metadata": {},
   "outputs": [],
   "source": [
    "aaaa = multiple_neural_networkkk.predict(df_train)\n",
    "\n",
    "accuracy_score(train_image_df[\"class name\"].values.tolist(), aaaa)"
   ]
  },
  {
   "cell_type": "code",
   "execution_count": null,
   "metadata": {},
   "outputs": [],
   "source": []
  },
  {
   "cell_type": "code",
   "execution_count": 944,
   "metadata": {},
   "outputs": [],
   "source": []
  },
  {
   "cell_type": "code",
   "execution_count": null,
   "metadata": {},
   "outputs": [],
   "source": []
  }
 ],
 "metadata": {
  "kernelspec": {
   "display_name": "Python 3",
   "language": "python",
   "name": "python3"
  },
  "language_info": {
   "codemirror_mode": {
    "name": "ipython",
    "version": 3
   },
   "file_extension": ".py",
   "mimetype": "text/x-python",
   "name": "python",
   "nbconvert_exporter": "python",
   "pygments_lexer": "ipython3",
   "version": "3.8.5"
  }
 },
 "nbformat": 4,
 "nbformat_minor": 4
}
